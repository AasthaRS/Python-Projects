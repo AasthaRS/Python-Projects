{
 "cells": [
  {
   "cell_type": "code",
   "execution_count": 23,
   "metadata": {},
   "outputs": [],
   "source": [
    "import cv2\n",
    "import numpy as np\n",
    "import face_recognition"
   ]
  },
  {
   "cell_type": "raw",
   "metadata": {},
   "source": [
    "# Loading the images and converting them to RGB (since the images are in BGR)"
   ]
  },
  {
   "cell_type": "code",
   "execution_count": 24,
   "metadata": {},
   "outputs": [],
   "source": [
    "imgPV = face_recognition.load_image_file('images/PV Sindhu.jpg')\n",
    "imgPV = cv2.cvtColor(imgPV,cv2.COLOR_BGR2RGB)"
   ]
  },
  {
   "cell_type": "code",
   "execution_count": 25,
   "metadata": {},
   "outputs": [],
   "source": [
    "imgTest = face_recognition.load_image_file('images/PV Test.jpg')\n",
    "imgTest = cv2.cvtColor(imgTest,cv2.COLOR_BGR2RGB)"
   ]
  },
  {
   "cell_type": "code",
   "execution_count": 26,
   "metadata": {},
   "outputs": [],
   "source": [
    "imgSaina = face_recognition.load_image_file('images/Saina Nehwal.jpg')\n",
    "imgSaina = cv2.cvtColor(imgSaina,cv2.COLOR_BGR2RGB)"
   ]
  },
  {
   "cell_type": "code",
   "execution_count": 27,
   "metadata": {},
   "outputs": [],
   "source": [
    "faceLoc = face_recognition.face_locations(imgPV)[0]                #detecting the face\n",
    "encodePV = face_recognition.face_encodings(imgPV)[0]             #finding encoding\n",
    "# faceLoc give four coordinates of the face detected  - top right bottom left"
   ]
  },
  {
   "cell_type": "code",
   "execution_count": 28,
   "metadata": {},
   "outputs": [
    {
     "data": {
      "text/plain": [
       "array([[[18, 17, 13],\n",
       "        [18, 17, 13],\n",
       "        [18, 17, 13],\n",
       "        ...,\n",
       "        [26, 10, 88],\n",
       "        [26, 10, 88],\n",
       "        [26, 10, 88]],\n",
       "\n",
       "       [[17, 16, 12],\n",
       "        [17, 16, 12],\n",
       "        [17, 16, 12],\n",
       "        ...,\n",
       "        [26, 10, 88],\n",
       "        [26, 10, 88],\n",
       "        [26, 10, 88]],\n",
       "\n",
       "       [[15, 14, 10],\n",
       "        [15, 14, 10],\n",
       "        [15, 13, 12],\n",
       "        ...,\n",
       "        [26, 10, 88],\n",
       "        [26, 10, 88],\n",
       "        [26, 10, 88]],\n",
       "\n",
       "       ...,\n",
       "\n",
       "       [[25, 16, 56],\n",
       "        [25, 16, 56],\n",
       "        [25, 16, 56],\n",
       "        ...,\n",
       "        [28,  9, 94],\n",
       "        [28,  9, 94],\n",
       "        [28,  9, 94]],\n",
       "\n",
       "       [[25, 16, 56],\n",
       "        [25, 16, 56],\n",
       "        [25, 16, 56],\n",
       "        ...,\n",
       "        [28,  9, 94],\n",
       "        [28,  9, 94],\n",
       "        [28,  9, 94]],\n",
       "\n",
       "       [[25, 16, 56],\n",
       "        [25, 16, 56],\n",
       "        [25, 16, 56],\n",
       "        ...,\n",
       "        [28,  9, 94],\n",
       "        [28,  9, 94],\n",
       "        [28,  9, 94]]], dtype=uint8)"
      ]
     },
     "execution_count": 28,
     "metadata": {},
     "output_type": "execute_result"
    }
   ],
   "source": [
    "faceLoc = face_recognition.face_locations(imgTest)[0]                #detecting the face\n",
    "encodeTest = face_recognition.face_encodings(imgTest)[0]             #finding encoding\n",
    "cv2.rectangle(imgTest,(faceLoc[3],faceLoc[0]),(faceLoc[1],faceLoc[2]),(255,0,255),2)"
   ]
  },
  {
   "cell_type": "code",
   "execution_count": 29,
   "metadata": {},
   "outputs": [
    {
     "data": {
      "text/plain": [
       "array([[[ 53,  79,  65],\n",
       "        [ 53,  79,  65],\n",
       "        [ 53,  79,  65],\n",
       "        ...,\n",
       "        [ 57,  81,  69],\n",
       "        [ 55,  79,  67],\n",
       "        [ 54,  78,  66]],\n",
       "\n",
       "       [[ 53,  79,  65],\n",
       "        [ 53,  79,  65],\n",
       "        [ 53,  79,  65],\n",
       "        ...,\n",
       "        [ 57,  81,  69],\n",
       "        [ 55,  79,  67],\n",
       "        [ 54,  78,  66]],\n",
       "\n",
       "       [[ 52,  78,  64],\n",
       "        [ 53,  79,  65],\n",
       "        [ 53,  79,  65],\n",
       "        ...,\n",
       "        [ 57,  81,  69],\n",
       "        [ 55,  79,  67],\n",
       "        [ 54,  78,  66]],\n",
       "\n",
       "       ...,\n",
       "\n",
       "       [[214, 123,  38],\n",
       "        [214, 123,  38],\n",
       "        [214, 123,  38],\n",
       "        ...,\n",
       "        [245, 219, 212],\n",
       "        [235, 207, 196],\n",
       "        [223, 194, 179]],\n",
       "\n",
       "       [[214, 123,  38],\n",
       "        [214, 123,  38],\n",
       "        [214, 123,  38],\n",
       "        ...,\n",
       "        [234, 208, 201],\n",
       "        [222, 194, 183],\n",
       "        [209, 180, 165]],\n",
       "\n",
       "       [[214, 123,  38],\n",
       "        [214, 123,  38],\n",
       "        [214, 123,  38],\n",
       "        ...,\n",
       "        [225, 199, 192],\n",
       "        [211, 183, 172],\n",
       "        [197, 168, 153]]], dtype=uint8)"
      ]
     },
     "execution_count": 29,
     "metadata": {},
     "output_type": "execute_result"
    }
   ],
   "source": [
    "cv2.rectangle(imgPV,(faceLoc[3],faceLoc[0]),(faceLoc[1],faceLoc[2]),(255,0,255),2)          \n",
    "# drawing purple rectangle over the face detected"
   ]
  },
  {
   "cell_type": "code",
   "execution_count": 31,
   "metadata": {},
   "outputs": [
    {
     "data": {
      "text/plain": [
       "array([[[213, 149, 145],\n",
       "        [214, 150, 146],\n",
       "        [214, 150, 146],\n",
       "        ...,\n",
       "        [130,  76,  83],\n",
       "        [130,  76,  83],\n",
       "        [130,  76,  83]],\n",
       "\n",
       "       [[214, 150, 146],\n",
       "        [214, 150, 146],\n",
       "        [214, 150, 146],\n",
       "        ...,\n",
       "        [130,  76,  83],\n",
       "        [130,  76,  83],\n",
       "        [130,  76,  83]],\n",
       "\n",
       "       [[214, 150, 146],\n",
       "        [214, 150, 146],\n",
       "        [215, 151, 147],\n",
       "        ...,\n",
       "        [131,  77,  84],\n",
       "        [131,  77,  84],\n",
       "        [131,  77,  84]],\n",
       "\n",
       "       ...,\n",
       "\n",
       "       [[223, 132, 127],\n",
       "        [223, 132, 127],\n",
       "        [221, 133, 126],\n",
       "        ...,\n",
       "        [208, 175, 179],\n",
       "        [191, 158, 162],\n",
       "        [179, 146, 150]],\n",
       "\n",
       "       [[229, 137, 132],\n",
       "        [228, 136, 131],\n",
       "        [227, 136, 129],\n",
       "        ...,\n",
       "        [211, 176, 180],\n",
       "        [194, 159, 163],\n",
       "        [181, 146, 150]],\n",
       "\n",
       "       [[237, 140, 136],\n",
       "        [233, 139, 134],\n",
       "        [231, 137, 131],\n",
       "        ...,\n",
       "        [211, 176, 180],\n",
       "        [194, 159, 163],\n",
       "        [182, 147, 151]]], dtype=uint8)"
      ]
     },
     "execution_count": 31,
     "metadata": {},
     "output_type": "execute_result"
    }
   ],
   "source": [
    "faceLoc = face_recognition.face_locations(imgSaina)[0]                #detecting the face\n",
    "encodeSaina = face_recognition.face_encodings(imgSaina)[0]             #finding encoding\n",
    "cv2.rectangle(imgSaina,(faceLoc[3],faceLoc[0]),(faceLoc[1],faceLoc[2]),(255,0,255),2)"
   ]
  },
  {
   "cell_type": "raw",
   "metadata": {},
   "source": [
    "# Comparing the encodings"
   ]
  },
  {
   "cell_type": "code",
   "execution_count": 33,
   "metadata": {},
   "outputs": [
    {
     "name": "stdout",
     "output_type": "stream",
     "text": [
      "[True] [0.46371489]\n"
     ]
    },
    {
     "data": {
      "text/plain": [
       "array([[[ 53,  79,  65],\n",
       "        [ 53,  79,  65],\n",
       "        [ 53,  79,  65],\n",
       "        ...,\n",
       "        [ 57,  81,  69],\n",
       "        [ 55,  79,  67],\n",
       "        [ 54,  78,  66]],\n",
       "\n",
       "       [[ 53,  79,  65],\n",
       "        [ 53,  79,  65],\n",
       "        [ 53,  79,  65],\n",
       "        ...,\n",
       "        [ 57,  81,  69],\n",
       "        [ 55,  79,  67],\n",
       "        [ 54,  78,  66]],\n",
       "\n",
       "       [[ 52,  78,  64],\n",
       "        [ 53,  79,  65],\n",
       "        [ 53,  79,  65],\n",
       "        ...,\n",
       "        [ 57,  81,  69],\n",
       "        [ 55,  79,  67],\n",
       "        [ 54,  78,  66]],\n",
       "\n",
       "       ...,\n",
       "\n",
       "       [[214, 123,  38],\n",
       "        [214, 123,  38],\n",
       "        [214, 123,  38],\n",
       "        ...,\n",
       "        [245, 219, 212],\n",
       "        [235, 207, 196],\n",
       "        [223, 194, 179]],\n",
       "\n",
       "       [[214, 123,  38],\n",
       "        [214, 123,  38],\n",
       "        [214, 123,  38],\n",
       "        ...,\n",
       "        [234, 208, 201],\n",
       "        [222, 194, 183],\n",
       "        [209, 180, 165]],\n",
       "\n",
       "       [[214, 123,  38],\n",
       "        [214, 123,  38],\n",
       "        [214, 123,  38],\n",
       "        ...,\n",
       "        [225, 199, 192],\n",
       "        [211, 183, 172],\n",
       "        [197, 168, 153]]], dtype=uint8)"
      ]
     },
     "execution_count": 33,
     "metadata": {},
     "output_type": "execute_result"
    }
   ],
   "source": [
    "results = face_recognition.compare_faces([encodePV],encodeTest)\n",
    "faceDis = face_recognition.face_distance([encodePV],encodeTest)\n",
    "print(results, faceDis)\n",
    "cv2.putText(imgPV,f'{results} {round(faceDis[0],2)}',(10,10),cv2.FONT_HERSHEY_PLAIN,1,(0,255,255),1)"
   ]
  },
  {
   "cell_type": "code",
   "execution_count": 34,
   "metadata": {},
   "outputs": [
    {
     "name": "stdout",
     "output_type": "stream",
     "text": [
      "[True] [0.70515041]\n"
     ]
    },
    {
     "data": {
      "text/plain": [
       "array([[[213, 149, 145],\n",
       "        [214, 150, 146],\n",
       "        [214, 150, 146],\n",
       "        ...,\n",
       "        [130,  76,  83],\n",
       "        [130,  76,  83],\n",
       "        [130,  76,  83]],\n",
       "\n",
       "       [[214, 150, 146],\n",
       "        [214, 150, 146],\n",
       "        [214, 150, 146],\n",
       "        ...,\n",
       "        [130,  76,  83],\n",
       "        [130,  76,  83],\n",
       "        [130,  76,  83]],\n",
       "\n",
       "       [[214, 150, 146],\n",
       "        [214, 150, 146],\n",
       "        [215, 151, 147],\n",
       "        ...,\n",
       "        [131,  77,  84],\n",
       "        [131,  77,  84],\n",
       "        [131,  77,  84]],\n",
       "\n",
       "       ...,\n",
       "\n",
       "       [[223, 132, 127],\n",
       "        [223, 132, 127],\n",
       "        [221, 133, 126],\n",
       "        ...,\n",
       "        [208, 175, 179],\n",
       "        [191, 158, 162],\n",
       "        [179, 146, 150]],\n",
       "\n",
       "       [[229, 137, 132],\n",
       "        [228, 136, 131],\n",
       "        [227, 136, 129],\n",
       "        ...,\n",
       "        [211, 176, 180],\n",
       "        [194, 159, 163],\n",
       "        [181, 146, 150]],\n",
       "\n",
       "       [[237, 140, 136],\n",
       "        [233, 139, 134],\n",
       "        [231, 137, 131],\n",
       "        ...,\n",
       "        [211, 176, 180],\n",
       "        [194, 159, 163],\n",
       "        [182, 147, 151]]], dtype=uint8)"
      ]
     },
     "execution_count": 34,
     "metadata": {},
     "output_type": "execute_result"
    }
   ],
   "source": [
    "result2 = face_recognition.compare_faces([encodeSaina],encodeTest)\n",
    "faceDis2 = face_recognition.face_distance([encodeSaina],encodeTest)\n",
    "print(results, faceDis2)\n",
    "cv2.putText(imgSaina,f'{result2} {round(faceDis2[0],2)}',(10,10),cv2.FONT_HERSHEY_PLAIN,1,(0,255,255),1)"
   ]
  },
  {
   "cell_type": "code",
   "execution_count": 35,
   "metadata": {},
   "outputs": [
    {
     "data": {
      "text/plain": [
       "-1"
      ]
     },
     "execution_count": 35,
     "metadata": {},
     "output_type": "execute_result"
    }
   ],
   "source": [
    "cv2.imshow(\"PV Sindhu\", imgPV)\n",
    "cv2.imshow(\"PV Test\", imgTest)\n",
    "cv2.imshow(\"Saina Nehwal\", imgSaina)\n",
    "cv2.waitKey(0)"
   ]
  },
  {
   "cell_type": "code",
   "execution_count": null,
   "metadata": {},
   "outputs": [],
   "source": []
  }
 ],
 "metadata": {
  "kernelspec": {
   "display_name": "Python 3 (ipykernel)",
   "language": "python",
   "name": "python3"
  },
  "language_info": {
   "codemirror_mode": {
    "name": "ipython",
    "version": 3
   },
   "file_extension": ".py",
   "mimetype": "text/x-python",
   "name": "python",
   "nbconvert_exporter": "python",
   "pygments_lexer": "ipython3",
   "version": "3.8.3"
  }
 },
 "nbformat": 4,
 "nbformat_minor": 4
}
