{
 "cells": [
  {
   "cell_type": "code",
   "execution_count": 1,
   "id": "3d3485ba",
   "metadata": {},
   "outputs": [],
   "source": [
    "import cv2\n",
    "import numpy as np\n",
    "import face_recognition\n",
    "import os\n",
    "from datetime import datetime"
   ]
  },
  {
   "cell_type": "raw",
   "id": "70027bee",
   "metadata": {},
   "source": [
    "#importing images of all the students and converting them into RGB"
   ]
  },
  {
   "cell_type": "code",
   "execution_count": 2,
   "id": "bcd295c6",
   "metadata": {},
   "outputs": [
    {
     "name": "stdout",
     "output_type": "stream",
     "text": [
      "['Aastha.jpg', 'MS Dhoni.jpg', 'Neeraj Chopra.jpg', 'PV Sindhu.jpg', 'Saina Nehwal.jpg']\n"
     ]
    }
   ],
   "source": [
    "path = 'ImagesAttendance'\n",
    "images = []\n",
    "classNames = []\n",
    "myList = os.listdir(path)\n",
    "print(myList)"
   ]
  },
  {
   "cell_type": "code",
   "execution_count": 3,
   "id": "cf6be928",
   "metadata": {},
   "outputs": [
    {
     "name": "stdout",
     "output_type": "stream",
     "text": [
      "['Aastha', 'MS Dhoni', 'Neeraj Chopra', 'PV Sindhu', 'Saina Nehwal']\n"
     ]
    }
   ],
   "source": [
    "for cls in myList:\n",
    "    curImg = cv2.imread(f'{path}/{cls}')\n",
    "    images.append(curImg)\n",
    "    classNames.append(os.path.splitext(cls)[0])\n",
    "print(classNames)"
   ]
  },
  {
   "cell_type": "raw",
   "id": "e72783bb",
   "metadata": {},
   "source": [
    "# Finding Encodings of each image"
   ]
  },
  {
   "cell_type": "code",
   "execution_count": 4,
   "id": "add7a53b",
   "metadata": {},
   "outputs": [],
   "source": [
    "def findEncodings(images):\n",
    "    encodeList = []\n",
    "    for img in images:\n",
    "        img = cv2.cvtColor(img, cv2.COLOR_BGR2RGB)        # converting each image to RGB\n",
    "        encode = face_recognition.face_encodings(img)[0]\n",
    "        encodeList.append(encode)\n",
    "    return encodeList        "
   ]
  },
  {
   "cell_type": "raw",
   "id": "5964b51d",
   "metadata": {},
   "source": [
    "# function to add attendance"
   ]
  },
  {
   "cell_type": "code",
   "execution_count": 5,
   "id": "a5561019",
   "metadata": {},
   "outputs": [],
   "source": [
    "def mark_attendance(name):\n",
    "    with open('AttendanceRegister.csv','r+') as f:\n",
    "        myDataList = f.readlines()\n",
    "        nameList = []\n",
    "        #print(myDataList)\n",
    "        for line in myDataList:\n",
    "            entry = line.split(',')\n",
    "            nameList.append(entry[0])\n",
    "        if name not in nameList:\n",
    "            now = datetime.now()\n",
    "            dtString = now.strftime('%H:%M:%S')\n",
    "            f.writelines(f'\\n{name},{dtString}')"
   ]
  },
  {
   "cell_type": "code",
   "execution_count": 6,
   "id": "45818d19",
   "metadata": {},
   "outputs": [
    {
     "name": "stdout",
     "output_type": "stream",
     "text": [
      "5\n"
     ]
    }
   ],
   "source": [
    "encodeListKnown = findEncodings(images)\n",
    "print(len(encodeListKnown))"
   ]
  },
  {
   "cell_type": "raw",
   "id": "e54f5b1c",
   "metadata": {},
   "source": [
    "# For input images we will use webcam"
   ]
  },
  {
   "cell_type": "code",
   "execution_count": 7,
   "id": "8e306e3d",
   "metadata": {},
   "outputs": [],
   "source": [
    "cap = cv2.VideoCapture(0)"
   ]
  },
  {
   "cell_type": "code",
   "execution_count": null,
   "id": "3f46d4b3",
   "metadata": {},
   "outputs": [
    {
     "name": "stdout",
     "output_type": "stream",
     "text": [
      "[0.52862585 0.75738637 0.82273499 0.57969435 0.67200509]\n",
      "AASTHA\n",
      "[0.5466647  0.74921482 0.84477695 0.63100463 0.68624106]\n",
      "AASTHA\n",
      "[0.53024668 0.74902274 0.87005457 0.56827851 0.70427197]\n",
      "AASTHA\n",
      "[0.57148983 0.73010255 0.8351522  0.54769489 0.69809144]\n",
      "PV SINDHU\n",
      "[0.53370489 0.69646392 0.82809832 0.58724898 0.68624143]\n",
      "AASTHA\n",
      "[0.56670038 0.77626727 0.8652248  0.55360633 0.6981537 ]\n",
      "PV SINDHU\n",
      "[0.58966139 0.80199466 0.87584843 0.55692271 0.67412188]\n",
      "PV SINDHU\n",
      "[0.54429045 0.81896924 0.87100685 0.57001729 0.70324224]\n",
      "AASTHA\n",
      "[0.562286   0.72223171 0.86909504 0.60994536 0.74562832]\n",
      "AASTHA\n",
      "[0.52505463 0.6696011  0.83746607 0.54684519 0.68788336]\n",
      "AASTHA\n",
      "[0.52481115 0.72278622 0.85935358 0.54407638 0.66580647]\n",
      "AASTHA\n",
      "[0.54840087 0.71827018 0.85664081 0.56378869 0.69984748]\n",
      "AASTHA\n",
      "[0.52671294 0.76483821 0.88420119 0.57147109 0.7316765 ]\n",
      "AASTHA\n",
      "[0.56066569 0.68890416 0.81204225 0.60705868 0.73858041]\n",
      "AASTHA\n",
      "[0.55940469 0.73558304 0.83957036 0.59511792 0.70695603]\n",
      "AASTHA\n",
      "[0.51173589 0.7292194  0.88539805 0.53417367 0.70932607]\n",
      "AASTHA\n",
      "[0.52276517 0.71360903 0.81783768 0.60311179 0.7117601 ]\n",
      "AASTHA\n",
      "[0.51627752 0.77028378 0.85381039 0.60153326 0.74941693]\n",
      "AASTHA\n",
      "[0.48584756 0.78098104 0.83813238 0.51996145 0.67680154]\n",
      "AASTHA\n",
      "[0.51239334 0.71010317 0.81997052 0.59154172 0.70305976]\n",
      "AASTHA\n",
      "[0.51599557 0.77348032 0.83572895 0.53818301 0.71608615]\n",
      "AASTHA\n",
      "[0.51031964 0.78488841 0.88717193 0.5496247  0.71991036]\n",
      "AASTHA\n",
      "[0.47961321 0.71435763 0.82390342 0.53396083 0.69449408]\n",
      "AASTHA\n",
      "[0.48303139 0.71809741 0.82184977 0.52427075 0.70134438]\n",
      "AASTHA\n",
      "[0.50205624 0.76853044 0.85490005 0.51916392 0.68499343]\n",
      "AASTHA\n",
      "[0.47468092 0.72567391 0.85399759 0.53379091 0.71012278]\n",
      "AASTHA\n",
      "[0.51210702 0.7360656  0.84650376 0.51326893 0.70319355]\n",
      "AASTHA\n",
      "[0.50939859 0.82180551 0.85494331 0.5208931  0.68125927]\n",
      "AASTHA\n",
      "[0.50152836 0.76366439 0.8190046  0.51718263 0.66765013]\n",
      "AASTHA\n",
      "[0.47047017 0.73239967 0.82240347 0.56214462 0.68612254]\n",
      "AASTHA\n",
      "[0.45067498 0.72380197 0.82351379 0.54657153 0.67803289]\n",
      "AASTHA\n",
      "[0.49509734 0.77322153 0.85096202 0.56369416 0.70773802]\n",
      "AASTHA\n",
      "[0.51260873 0.76485804 0.85142807 0.52676209 0.67163516]\n",
      "AASTHA\n",
      "[0.50621969 0.75101663 0.85148581 0.50122547 0.7148046 ]\n",
      "PV SINDHU\n",
      "[0.52716944 0.73956    0.85244183 0.54207944 0.72105532]\n",
      "AASTHA\n",
      "[0.48800011 0.74180512 0.85947383 0.52445335 0.68373903]\n",
      "AASTHA\n",
      "[0.51531818 0.66642094 0.80091106 0.56441628 0.68513836]\n",
      "AASTHA\n",
      "[0.53133354 0.72080791 0.77740852 0.54591757 0.68761253]\n",
      "AASTHA\n",
      "[0.82077708 0.43390367 0.72327935 0.80737539 0.83815575]\n",
      "MS DHONI\n"
     ]
    }
   ],
   "source": [
    "while True:\n",
    "    success, img = cap.read()\n",
    "    imgS = cv2.resize(img,(0,0),None,0.25,0.25)     # reducing the size of image to speed up the process\n",
    "    imgS = cv2.cvtColor(imgS, cv2.COLOR_BGR2RGB)    # converting it to RGB\n",
    "    facesCurrFrame = face_recognition.face_locations(imgS)    # finding location of face in webcam\n",
    "    encodeCurFrame = face_recognition.face_encodings(imgS, facesCurrFrame)\n",
    "    \n",
    "    for encodeFace, faceLoc in zip(encodeCurFrame, facesCurrFrame):\n",
    "        matches = face_recognition.compare_faces(encodeListKnown, encodeFace)\n",
    "        faceDis = face_recognition.face_distance(encodeListKnown, encodeFace)\n",
    "        print(faceDis)\n",
    "        matchIndex = np.argmin(faceDis)\n",
    "        \n",
    "        if matches[matchIndex]:\n",
    "            name = classNames[matchIndex].upper()\n",
    "            print(name)\n",
    "            y1,x2,y2,x1 = faceLoc\n",
    "            y1,x2,y2,x1 = y1*4,x2*4,y2*4,x1*4\n",
    "            cv2.rectangle(img,(x1,y1),(x2,y2),(0,255,0),2)\n",
    "            cv2.rectangle(img,(x1,y2-35),(x2,y2),(0,255,0),cv2.FILLED)\n",
    "            cv2.putText(img,name,(x1+6,y2-6),cv2.FONT_HERSHEY_COMPLEX,1,(255,255,255),2)\n",
    "            mark_attendance(name)\n",
    "            \n",
    "    cv2.imshow(\"Webcam\",img)    #showing original image\n",
    "    cv2.waitKey(1)"
   ]
  },
  {
   "cell_type": "code",
   "execution_count": null,
   "id": "c9e9fcda",
   "metadata": {},
   "outputs": [],
   "source": []
  }
 ],
 "metadata": {
  "kernelspec": {
   "display_name": "Python 3 (ipykernel)",
   "language": "python",
   "name": "python3"
  },
  "language_info": {
   "codemirror_mode": {
    "name": "ipython",
    "version": 3
   },
   "file_extension": ".py",
   "mimetype": "text/x-python",
   "name": "python",
   "nbconvert_exporter": "python",
   "pygments_lexer": "ipython3",
   "version": "3.8.3"
  }
 },
 "nbformat": 4,
 "nbformat_minor": 5
}
